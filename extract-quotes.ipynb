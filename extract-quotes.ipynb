{
 "cells": [
  {
   "cell_type": "code",
   "execution_count": 1,
   "metadata": {},
   "outputs": [
    {
     "name": "stdout",
     "output_type": "stream",
     "text": [
      "Extracting quotes from P4songsremoved.txt\n",
      "Extracting quotes from P3songsremoved.txt\n",
      "Extracting quotes from P2songsremoved.txt\n",
      "Extracting quotes from P5songsremoved.txt\n",
      "Extracting quotes from P7songsremoved.txt\n",
      "Extracting quotes from P8songsremoved.txt\n",
      "Extracting quotes from P6songsremoved.txt\n",
      "Extracting quotes from P9songsremoved.txt\n",
      "Extracting quotes from testfile.txt\n",
      "Extracting quotes from P1songsremoved.txt\n"
     ]
    }
   ],
   "source": [
    "import re\n",
    "import os\n",
    "import glob\n",
    "\n",
    "infilelist = glob.glob('*.txt')\n",
    "\n",
    "outdir = 'dialogue-out' # outfiles directory - make manually\n",
    "outprefix = 'dialogue-' # file prefix\n",
    "\n",
    "regex = r\"“(.+?)”\"\n",
    "\n",
    "for f in infilelist:\n",
    "    print('Extracting quotes from ' + f)\n",
    "    \n",
    "    # load all the text\n",
    "    text = open(f, 'r').read()\n",
    "    \n",
    "    # find matches into iterator, turn iterator into reuable list\n",
    "    matches = re.finditer(regex, text, re.MULTILINE)\n",
    "    matches = list(matches)\n",
    "    \n",
    "    # open the outfile\n",
    "    outdialogfile = open(outdir + '/' + outprefix + f, 'w')\n",
    "    \n",
    "    # loop match list and print regex group for each match (just the first few)\n",
    "    for m in matches:\n",
    "        outdialogfile.write(m.group() + '\\n')\n",
    "    \n",
    "    outdialogfile.close()\n"
   ]
  },
  {
   "cell_type": "code",
   "execution_count": 76,
   "metadata": {},
   "outputs": [],
   "source": []
  },
  {
   "cell_type": "code",
   "execution_count": null,
   "metadata": {},
   "outputs": [],
   "source": [
    "\n"
   ]
  }
 ],
 "metadata": {
  "kernelspec": {
   "display_name": "Python 3",
   "language": "python",
   "name": "python3"
  },
  "language_info": {
   "codemirror_mode": {
    "name": "ipython",
    "version": 3
   },
   "file_extension": ".py",
   "mimetype": "text/x-python",
   "name": "python",
   "nbconvert_exporter": "python",
   "pygments_lexer": "ipython3",
   "version": "3.6.5"
  }
 },
 "nbformat": 4,
 "nbformat_minor": 2
}
